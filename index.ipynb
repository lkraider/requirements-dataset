{
 "cells": [
  {
   "cell_type": "markdown",
   "metadata": {},
   "source": [
    "# Distutils - Github requirements dataset"
   ]
  },
  {
   "cell_type": "code",
   "execution_count": 1,
   "metadata": {
    "collapsed": true,
    "deletable": true,
    "editable": true
   },
   "outputs": [],
   "source": [
    "url = 'https://github.com/jayfk/requirements-dataset/raw/master/data.json'\n",
    "dataset_filename = 'data.json'\n",
    "parsed_filename = 'parsed.json'"
   ]
  },
  {
   "cell_type": "code",
   "execution_count": 2,
   "metadata": {
    "collapsed": false,
    "deletable": true,
    "editable": true
   },
   "outputs": [],
   "source": [
    "\"\"\"Patch pip to parse requirements without breaking.\"\"\"\n",
    "\n",
    "import pip.req\n",
    "from pip.req.req_file import preprocess, process_line\n",
    "\n",
    "def parse_requirements(*a, **kw):\n",
    "    \"\"\"Disable recursive parsing.\"\"\"\n",
    "    return\n",
    "    yield\n",
    "    \n",
    "def catch_errors(function):\n",
    "    \"\"\"Don't break on exceptions.\"\"\"\n",
    "    def wrap(*a, **kw):\n",
    "        try:\n",
    "            return function(*a, **kw)\n",
    "        except Exception as e:\n",
    "            return e\n",
    "    return wrap\n",
    "\n",
    "def gen_catch_errors(generator):\n",
    "    \"\"\"Don't break on exceptions.\"\"\"\n",
    "    def wrap(*a, **kw):\n",
    "        try:\n",
    "            for g in generator(*a, **kw):\n",
    "                yield g\n",
    "        except Exception as e:\n",
    "            yield e\n",
    "    return wrap\n",
    "\n",
    "# monkey-patch\n",
    "process_line = gen_catch_errors(process_line)\n",
    "pip.req.req_file.process_line = gen_catch_errors(pip.req.req_file.process_line)\n",
    "pip.req.req_file.parse_requirements = parse_requirements\n",
    "pip.req.req_install.InstallRequirement.from_editable = catch_errors(pip.req.req_install.InstallRequirement.from_editable)\n",
    "pip.req.req_install.InstallRequirement.from_line = catch_errors(pip.req.req_install.InstallRequirement.from_line)\n",
    "\n",
    "def parse_reqs(content, options=None, session='session', filename=''):\n",
    "    \"\"\"Reimplementation of pip.req.parse_requirements for use with strings.\"\"\"\n",
    "    lines_enum = preprocess(content, options)\n",
    "    for line_number, line in lines_enum:\n",
    "        req_iter = process_line(line, filename, line_number, options=options, session=session)\n",
    "        for req in req_iter:\n",
    "            if isinstance(req, pip.req.InstallRequirement):\n",
    "                yield req"
   ]
  },
  {
   "cell_type": "code",
   "execution_count": 3,
   "metadata": {
    "collapsed": false,
    "deletable": true,
    "editable": true
   },
   "outputs": [],
   "source": [
    "%%capture --no-stdout --no-display\n",
    "\n",
    "\"\"\"Linearize all requirements packages found on dataset into new file.\"\"\"\n",
    "\n",
    "import os\n",
    "import json\n",
    "import urllib.request\n",
    "import multiprocessing\n",
    "\n",
    "# load dataset from network\n",
    "if not os.path.isfile(dataset_filename):\n",
    "    urllib.request.urlretrieve(url, dataset_filename)\n",
    "\n",
    "def worker(json_line, queue):\n",
    "    \"\"\"\n",
    "    Requirements parser.\n",
    "    Parse requirements file from JSON line and output only the valid packages into queue.\n",
    "    \"\"\"\n",
    "    key = 'C_content'\n",
    "    js = json.loads(json_line)\n",
    "    if not key in js:\n",
    "        return\n",
    "    for r in parse_reqs(js[key]):\n",
    "        if r.req:\n",
    "            line = json.dumps({\n",
    "                'name': r.req.name,\n",
    "                'specifiers': list(reversed(sorted(str(s) for s in r.req.specifier))),\n",
    "            })\n",
    "        elif r.link:\n",
    "            line = json.dumps({\n",
    "                'name': r.link.filename,\n",
    "                'url': r.link.url,\n",
    "            })\n",
    "        else:\n",
    "            continue\n",
    "        queue.put(line)\n",
    "    \n",
    "def writer(filename, queue, stop):\n",
    "    \"\"\"Write incoming text from queue to file.\"\"\"\n",
    "    count = 0\n",
    "    with open(filename, 'wb') as o:\n",
    "        o.write('['.encode('utf-8'))\n",
    "        while True:\n",
    "            line = queue.get()\n",
    "            if line == stop:\n",
    "                break\n",
    "            o.write(line.encode('utf-8'))\n",
    "            o.write(',\\n'.encode('utf-8'))\n",
    "            count += 1\n",
    "        o.seek(-2, os.SEEK_CUR)\n",
    "        o.write(']'.encode('utf-8'))\n",
    "    print('Parsed:', count)\n",
    "    \n",
    "if not os.path.isfile(parsed_filename):\n",
    "    with open(dataset_filename) as f:\n",
    "        with multiprocessing.Manager() as manager:\n",
    "            STOP_TOKEN = 'STOP_TOKEN'\n",
    "            writer_queue = manager.Queue()\n",
    "            writer_process = multiprocessing.Process(target=writer, args=(parsed_filename, writer_queue, STOP_TOKEN))\n",
    "            writer_process.start()\n",
    "            reader_pool = multiprocessing.Pool(4)\n",
    "            reader_pool.starmap(worker, ((line, writer_queue) for line in f), chunksize=100)\n",
    "            writer_queue.put(STOP_TOKEN)\n",
    "            writer_process.join()"
   ]
  },
  {
   "cell_type": "code",
   "execution_count": 4,
   "metadata": {
    "collapsed": false,
    "deletable": true,
    "editable": true
   },
   "outputs": [],
   "source": [
    "import pandas as pd\n",
    "\n",
    "df = pd.read_json(parsed_filename)"
   ]
  },
  {
   "cell_type": "code",
   "execution_count": 5,
   "metadata": {
    "collapsed": false,
    "deletable": true,
    "editable": true
   },
   "outputs": [
    {
     "data": {
      "text/html": [
       "<div>\n",
       "<table border=\"1\" class=\"dataframe\">\n",
       "  <thead>\n",
       "    <tr style=\"text-align: right;\">\n",
       "      <th></th>\n",
       "      <th>name</th>\n",
       "      <th>specifiers</th>\n",
       "      <th>url</th>\n",
       "    </tr>\n",
       "  </thead>\n",
       "  <tbody>\n",
       "    <tr>\n",
       "      <th>0</th>\n",
       "      <td>Django</td>\n",
       "      <td>[&lt;1.9, &gt;=1.8]</td>\n",
       "      <td>NaN</td>\n",
       "    </tr>\n",
       "    <tr>\n",
       "      <th>1</th>\n",
       "      <td>paramiko</td>\n",
       "      <td>[&gt;=1.16.0]</td>\n",
       "      <td>NaN</td>\n",
       "    </tr>\n",
       "    <tr>\n",
       "      <th>2</th>\n",
       "      <td>pymongo</td>\n",
       "      <td>[&gt;=2.7.2, &lt;4.0.0]</td>\n",
       "      <td>NaN</td>\n",
       "    </tr>\n",
       "  </tbody>\n",
       "</table>\n",
       "</div>"
      ],
      "text/plain": [
       "       name         specifiers  url\n",
       "0    Django      [<1.9, >=1.8]  NaN\n",
       "1  paramiko         [>=1.16.0]  NaN\n",
       "2   pymongo  [>=2.7.2, <4.0.0]  NaN"
      ]
     },
     "execution_count": 5,
     "metadata": {},
     "output_type": "execute_result"
    }
   ],
   "source": [
    "# sample data\n",
    "df[:3]"
   ]
  },
  {
   "cell_type": "code",
   "execution_count": 6,
   "metadata": {
    "collapsed": false
   },
   "outputs": [
    {
     "data": {
      "text/html": [
       "<div>\n",
       "<table border=\"1\" class=\"dataframe\">\n",
       "  <thead>\n",
       "    <tr style=\"text-align: right;\">\n",
       "      <th></th>\n",
       "      <th>name</th>\n",
       "      <th>specifiers</th>\n",
       "      <th>url</th>\n",
       "    </tr>\n",
       "  </thead>\n",
       "  <tbody>\n",
       "    <tr>\n",
       "      <th>184</th>\n",
       "      <td>loads.git</td>\n",
       "      <td>NaN</td>\n",
       "      <td>git+git://github.com/mozilla-services/loads.git</td>\n",
       "    </tr>\n",
       "    <tr>\n",
       "      <th>198</th>\n",
       "      <td>requests-hawk.git</td>\n",
       "      <td>NaN</td>\n",
       "      <td>git+git://github.com/mozilla-services/requests...</td>\n",
       "    </tr>\n",
       "    <tr>\n",
       "      <th>1072</th>\n",
       "      <td>download</td>\n",
       "      <td>NaN</td>\n",
       "      <td>http://sourceforge.net/projects/pychecker/file...</td>\n",
       "    </tr>\n",
       "  </tbody>\n",
       "</table>\n",
       "</div>"
      ],
      "text/plain": [
       "                   name specifiers  \\\n",
       "184           loads.git        NaN   \n",
       "198   requests-hawk.git        NaN   \n",
       "1072           download        NaN   \n",
       "\n",
       "                                                    url  \n",
       "184     git+git://github.com/mozilla-services/loads.git  \n",
       "198   git+git://github.com/mozilla-services/requests...  \n",
       "1072  http://sourceforge.net/projects/pychecker/file...  "
      ]
     },
     "execution_count": 6,
     "metadata": {},
     "output_type": "execute_result"
    }
   ],
   "source": [
    "# sample url data\n",
    "df[df['url'].notnull()][:3]"
   ]
  },
  {
   "cell_type": "code",
   "execution_count": 7,
   "metadata": {
    "collapsed": false,
    "deletable": true,
    "editable": true
   },
   "outputs": [
    {
     "data": {
      "text/plain": [
       "<matplotlib.axes._subplots.AxesSubplot at 0x1224efb00>"
      ]
     },
     "execution_count": 7,
     "metadata": {},
     "output_type": "execute_result"
    },
    {
     "data": {
      "image/png": "[encoded data removed]",
      "text/plain": [
       "<matplotlib.figure.Figure at 0x1224ea400>"
      ]
     },
     "metadata": {},
     "output_type": "display_data"
    }
   ],
   "source": [
    "%matplotlib inline\n",
    "\n",
    "# top most popular packages\n",
    "df.groupby('name').size().nlargest(15).iloc[::-1].plot('barh')"
   ]
  },
  {
   "cell_type": "code",
   "execution_count": 8,
   "metadata": {
    "collapsed": false,
    "deletable": true,
    "editable": true
   },
   "outputs": [
    {
     "data": {
      "text/plain": [
       "<matplotlib.axes._subplots.AxesSubplot at 0x1225c97f0>"
      ]
     },
     "execution_count": 8,
     "metadata": {},
     "output_type": "execute_result"
    },
    {
     "data": {
      "image/png": "[encoded data removed]",
      "text/plain": [
       "<matplotlib.figure.Figure at 0x1224cd898>"
      ]
     },
     "metadata": {},
     "output_type": "display_data"
    }
   ],
   "source": [
    "%matplotlib inline\n",
    "\n",
    "# top most linked packages\n",
    "df[df['url'].notnull()].groupby('name').size().nlargest(15).iloc[::-1].plot('barh')"
   ]
  },
  {
   "cell_type": "code",
   "execution_count": null,
   "metadata": {
    "collapsed": true
   },
   "outputs": [],
   "source": []
  }
 ],
 "metadata": {
  "kernelspec": {
   "display_name": "Python 3",
   "language": "python",
   "name": "python3"
  },
  "language_info": {
   "codemirror_mode": {
    "name": "ipython",
    "version": 3
   },
   "file_extension": ".py",
   "mimetype": "text/x-python",
   "name": "python",
   "nbconvert_exporter": "python",
   "pygments_lexer": "ipython3",
   "version": "3.6.0"
  }
 },
 "nbformat": 4,
 "nbformat_minor": 2
}
